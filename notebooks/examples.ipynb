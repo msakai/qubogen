{
 "cells": [
  {
   "cell_type": "markdown",
   "metadata": {},
   "source": [
    "# Examples of QUBOgen"
   ]
  },
  {
   "cell_type": "markdown",
   "metadata": {},
   "source": [
    "## [Number Partitioning](https://en.wikipedia.org/wiki/Partition_problem)\n",
    "\n",
    "How to partition a given multiset of numbers into two subsets S1, S2 such that |sum(S1) - sum(S2)| is as small as possible?"
   ]
  },
  {
   "cell_type": "code",
   "execution_count": null,
   "metadata": {},
   "outputs": [],
   "source": [
    "import qubogen\n",
    "from dwave_qbsolv import QBSolv"
   ]
  },
  {
   "cell_type": "markdown",
   "metadata": {},
   "source": [
    "sample multiset"
   ]
  },
  {
   "cell_type": "code",
   "execution_count": null,
   "metadata": {},
   "outputs": [],
   "source": [
    "s = np.array([3,1,1,2,2,1])"
   ]
  },
  {
   "cell_type": "markdown",
   "metadata": {},
   "source": [
    "create qubo with `qubogen.qubo_number_partition`"
   ]
  },
  {
   "cell_type": "code",
   "execution_count": null,
   "metadata": {},
   "outputs": [],
   "source": [
    "qubogen.qubo_number_partition(s)"
   ]
  },
  {
   "cell_type": "markdown",
   "metadata": {},
   "source": [
    "## [Graph Coloring](https://en.wikipedia.org/wiki/Graph_coloring)\n",
    "- For a given graph, how to color the vertices such that no two adjacent vertices are of same color?"
   ]
  },
  {
   "cell_type": "markdown",
   "metadata": {},
   "source": [
    "sample graph: builtin data structure `qubogen.Graph`"
   ]
  },
  {
   "cell_type": "code",
   "execution_count": null,
   "metadata": {},
   "outputs": [],
   "source": [
    "edges = [[0,1],[0,4],[1,2],[1,3],[1,4],[2,3],[3,4]]\n",
    "n_nodes\n",
    "g = qubogen.Graph(edges=edges, n_nodes=n_nodes)"
   ]
  },
  {
   "cell_type": "markdown",
   "metadata": {},
   "source": [
    "create qubo with `qubogen.qubo_graph_coloring`"
   ]
  },
  {
   "cell_type": "code",
   "execution_count": null,
   "metadata": {},
   "outputs": [],
   "source": [
    "q=qubogen.qubo_graph_coloring(g, n_color=3)"
   ]
  },
  {
   "cell_type": "markdown",
   "metadata": {},
   "source": [
    "## Other combinatorial optimization problems\n",
    "\n",
    "`qubogen` is also available for the below problems:\n",
    "\n",
    "| Problem                                      | Method                   |\n",
    "| -------------------------------------------- | ------------------------ |\n",
    "| Max-Cut Problem                              | `qubogen.qubo_max_cut`   |  |\n",
    "| Minimum Vertex Cover Problem (MVC)           | `qubogen.qubo_mvc`       |\n",
    "| Weighted Minimum Vertex Cover Problem (WMVC) | `qubogen.qubo_wmvc`      |\n",
    "| Set Packing Problem                          | `qubogen.qubo_set_pack`  |\n",
    "| Max 2-Sat Problem                            | `qubogen.qubo_max2sat`   |\n",
    "| Set Partitioning Problem (SPP)               | `qubogen.qubo_spp`       |\n",
    "| General 0/1 Programming                      | `qubogen.qubo_general01` |\n",
    "| Quadratic Assignment Problem (QAP)           | `qubogen.qubo_qap`       |\n",
    "| Quadratic Knapsack Problem (QKP)             | `qubogen.qubo_qkp`       |"
   ]
  }
 ],
 "metadata": {
  "kernelspec": {
   "display_name": "qubogen",
   "language": "python",
   "name": "qubogen"
  },
  "language_info": {
   "codemirror_mode": {
    "name": "ipython",
    "version": 3
   },
   "file_extension": ".py",
   "mimetype": "text/x-python",
   "name": "python",
   "nbconvert_exporter": "python",
   "pygments_lexer": "ipython3",
   "version": "3.7.2"
  }
 },
 "nbformat": 4,
 "nbformat_minor": 2
}
