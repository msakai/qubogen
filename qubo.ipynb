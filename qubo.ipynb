{
 "cells": [
  {
   "cell_type": "markdown",
   "metadata": {},
   "source": [
    "# A Tutorial on Formulating and Using QUBO Models\n",
    "http://meta-analytics.net/references/QUBO%20Tutorial%20%20Version%201-4.pdf"
   ]
  },
  {
   "cell_type": "code",
   "execution_count": 253,
   "metadata": {},
   "outputs": [],
   "source": [
    "from __future__ import annotations\n",
    "from dwave_qbsolv import QBSolv\n",
    "from typing import Set, Tuple, Container, Dict, Sequence\n",
    "from dataclasses import dataclass\n",
    "import networkx as nx"
   ]
  },
  {
   "cell_type": "code",
   "execution_count": 74,
   "metadata": {},
   "outputs": [],
   "source": [
    "def get_q_dict(q: np.ndarray) -> Dict[Tuple[int, int], float]:\n",
    "    \"\"\"Returns q matrix in the form of dict from np.ndarray\n",
    "    \n",
    "    The dict can be directly passed to dwave_qbsolv.QBSolv\n",
    "    \"\"\"\n",
    "    assert len(q.shape) == 2 and  q.shape[0] == q.shape[1]\n",
    "    return dict(zip(zip(*np.nonzero(q)), q[q!=0]))"
   ]
  },
  {
   "cell_type": "code",
   "execution_count": 76,
   "metadata": {},
   "outputs": [],
   "source": [
    "def test_get_q_dict():\n",
    "    q = np.array([[1,2],\n",
    "                  [2,4]])\n",
    "    assert get_q_dict(q) == {(0,0):1, (0,1):2, (1,0):2, (1,1):4}\n",
    "test_get_q_dict()"
   ]
  },
  {
   "cell_type": "code",
   "execution_count": 153,
   "metadata": {},
   "outputs": [],
   "source": [
    "def qbsolv_from_ndarray(q: np.ndarray):\n",
    "    return  QBSolv().sample_qubo(get_q_dict(q)).samples_matrix"
   ]
  },
  {
   "cell_type": "markdown",
   "metadata": {},
   "source": [
    "#  The Number Partitioning Problem\n",
    "\n",
    "$$q_{ii} = s_{i}(s_{i}-c) \\\\\n",
    "q_{ij} = q_{ji} = s_{i}s_{j} \\\\\n",
    "c = \\sum_i{s_{i}}$$"
   ]
  },
  {
   "cell_type": "code",
   "execution_count": 127,
   "metadata": {},
   "outputs": [],
   "source": [
    "def qubo_number_partition(s: Container[float]) -> np.ndarray:\n",
    "    \"\"\"Return Q matrix of number partitioning problem\"\"\"\n",
    "    s = np.array(list(s))\n",
    "    c = s.sum()\n",
    "    q = np.outer(s, s)\n",
    "    np.fill_diagonal(q, s*(s-c))\n",
    "    return q"
   ]
  },
  {
   "cell_type": "code",
   "execution_count": 128,
   "metadata": {},
   "outputs": [],
   "source": [
    "def test_qubo_number_partition():\n",
    "    s = np.array([3,1,1,2,2,1])\n",
    "    res = QBSolv().sample_qubo(get_q_dict(qubo_number_partition(s))).samples_matrix[0]\n",
    "    assert s[res == 1].sum() == 5\n",
    "    assert s[res == 0].sum() == 5\n",
    "test_number_partition()"
   ]
  },
  {
   "cell_type": "markdown",
   "metadata": {},
   "source": [
    "# The Max-Cut Problem\n",
    "\n",
    "$$ Minimize\\ y = \\sum_{(i,j)\\in E}(2x_{i}x_{j}-x_{i}-x_{j})$$"
   ]
  },
  {
   "cell_type": "code",
   "execution_count": 254,
   "metadata": {},
   "outputs": [],
   "source": [
    "@dataclass\n",
    "class Graph:\n",
    "    edges: Collection[Collection[int]] # edge is represented as (i, j)\n",
    "    n_nodes: int\n",
    "    init_value: Mapping[int, int] = None # init_value[i] indicates init value of node i\n",
    "    nodes: Sequence[float] = None # value of nodes. len(nodes) must be n_nodes\n",
    "     \n",
    "    def __post_init__(self):\n",
    "        if self.nodes is not None: assert len(self.nodes) == self.n_nodes \n",
    "        if self.edges is None: return\n",
    "        if len(self.edges) == 0: \n",
    "            self.edges = None\n",
    "            return\n",
    "        self.edges = np.array(list(self.edges))\n",
    "        assert self.edges.max() < self.n_nodes\n",
    "        assert self.edges.shape[1] == 2\n",
    "        if self.init_value is not None:\n",
    "            assert all(np.array(list(self.init_value)) < self.n_nodes)\n",
    "        \n",
    "    @classmethod\n",
    "    def from_networkx(cls, graph: nx.Graph) -> Graph:\n",
    "        return cls(edges = graph.edges, n_nodes = graph.number_of_nodes())\n",
    "    \n",
    "    def to_networkx_graph(self) -> nx.Graph:\n",
    "        nxg = nx.Graph()\n",
    "        nxg.add_nodes_from(range(self.n_nodes))\n",
    "        nxg.add_edges_from(self.edges)\n",
    "        return nxg"
   ]
  },
  {
   "cell_type": "code",
   "execution_count": 129,
   "metadata": {},
   "outputs": [],
   "source": [
    "def test_graph():\n",
    "    edges = {(1,2), (3,4)}\n",
    "    graph = Graph(edges, 5)\n",
    "    assert graph.edges.shape == (2,2)\n",
    "    nxg = graph.to_networkx_graph()\n",
    "    _graph = Graph.from_networkx(nxg)\n",
    "    assert np.array_equal(graph.edges, _graph.edges)\n",
    "    assert graph.n_nodes == _graph.n_nodes\n",
    "test_graph()"
   ]
  },
  {
   "cell_type": "code",
   "execution_count": 208,
   "metadata": {},
   "outputs": [],
   "source": [
    "def qubo_max_cut(g: Graph) -> np.ndarray:\n",
    "    n_nodes = g.n_nodes\n",
    "    q = np.zeros((n_nodes, n_nodes))\n",
    "    i, j = g.edges.T\n",
    "    np.add.at(q, (i,i), -1)\n",
    "    np.add.at(q, (j,j), -1)\n",
    "    q[i,j] += 1\n",
    "    q[j,i] += 1\n",
    "    return q"
   ]
  },
  {
   "cell_type": "code",
   "execution_count": 406,
   "metadata": {},
   "outputs": [],
   "source": [
    "def is_contain(x: np.ndarray, y: np.ndarray) -> bool:\n",
    "    \"\"\"If y \\in x\"\"\"\n",
    "    assert len(x.shape) -1 == len(y.shape)\n",
    "    return any(np.array_equal(xi, y) for xi in x)"
   ]
  },
  {
   "cell_type": "code",
   "execution_count": 407,
   "metadata": {},
   "outputs": [],
   "source": [
    "def test_qubo_max_cut():\n",
    "    edges = [(0,1), (0,2), (1,3), (2,3), (2, 4), (3, 4)]\n",
    "    g = Graph(edges=edges, n_nodes=5)\n",
    "    q = qubo_max_cut(g)\n",
    "    assert q.tolist() == [[-2,1,1,0,0],\n",
    "                          [1,-2,0,1,0],\n",
    "                          [1,0,-3,1,1],\n",
    "                          [0,1,1,-3,1],\n",
    "                          [0,0,1,1,-2]]\n",
    "    res = qbsolv_from_ndarray(q)\n",
    "    assert is_contain(res, np.array([0,1,1,0,0]))\n",
    "test_qubo_max_cut()"
   ]
  },
  {
   "cell_type": "markdown",
   "metadata": {},
   "source": [
    "# known penalties\n",
    "\n",
    "![](img/penalty.png)"
   ]
  },
  {
   "cell_type": "markdown",
   "metadata": {},
   "source": [
    "# The Minimum Vertex Cover Problem (MVC)\n",
    "\n",
    "$$ y = \\sum_{j \\in V}x_{j} + P\\left(\\sum_{(i,j) \\in E}\\left(1-x_{i}-x_{j}+x_{i}x_{j}\\right)\\right)$$"
   ]
  },
  {
   "cell_type": "code",
   "execution_count": 248,
   "metadata": {},
   "outputs": [],
   "source": [
    "def qubo_mvc(g: Graph, p: float = 8.):\n",
    "    \"\"\"The Minimum Vertex Cover Problem (MVC)\"\"\"\n",
    "    q = np.diagflat(np.ones(g.n_nodes))\n",
    "    i, j = g.edges.T\n",
    "    np.add.at(q, (i,i), -p)\n",
    "    np.add.at(q, (j,j), -p)\n",
    "    q[i,j] += p/2.\n",
    "    q[j,i] += p/2.\n",
    "    return q"
   ]
  },
  {
   "cell_type": "code",
   "execution_count": 408,
   "metadata": {},
   "outputs": [],
   "source": [
    "def test_qubo_mvc():\n",
    "    edges = [(0,1), (0,2), (1,3), (2,3), (2, 4), (3, 4)]\n",
    "    g = Graph(edges=edges, n_nodes=5)\n",
    "    q = qubo_mvc(g, p=8.)\n",
    "    res = qbsolv_from_ndarray(q)\n",
    "    assert is_contain(res, np.array([0,1,1,0,1]))\n",
    "test_qubo_mvc()"
   ]
  },
  {
   "cell_type": "markdown",
   "metadata": {},
   "source": [
    "# The Weighted Minimum Vertex Cover Problem (W-MVC)\n",
    "\n",
    "$$ y = \\sum_{j \\in V}w_{j}x_{j} + P\\left(\\sum_{(i,j) \\in E}\\left(1-x_{i}-x_{j}+x_{i}x_{j}\\right)\\right)$$"
   ]
  },
  {
   "cell_type": "code",
   "execution_count": 257,
   "metadata": {},
   "outputs": [],
   "source": [
    "def qubo_wmvc(g: Graph, p: float = 8.):\n",
    "    \"\"\"The Minimum Vertex Cover Problem (MVC)\"\"\"\n",
    "    q = np.diagflat(np.ones(g.n_nodes)*g.nodes)\n",
    "    i, j = g.edges.T\n",
    "    np.add.at(q, (i,i), -p)\n",
    "    np.add.at(q, (j,j), -p)\n",
    "    q[i,j] += p/2.\n",
    "    q[j,i] += p/2.\n",
    "    return q"
   ]
  },
  {
   "cell_type": "code",
   "execution_count": 409,
   "metadata": {},
   "outputs": [],
   "source": [
    "def test_qubo_wmvc():\n",
    "    edges = [(0,1), (0,2), (1,3), (2,3), (2, 4), (3, 4)]\n",
    "    g = Graph(edges=edges, n_nodes=5, nodes=np.ones(5))\n",
    "    q = qubo_mvc(g, p=8.)\n",
    "    res = qbsolv_from_ndarray(q)\n",
    "    assert is_contain(res, np.array([0,1,1,0,1]))\n",
    "test_qubo_wmvc()"
   ]
  },
  {
   "cell_type": "markdown",
   "metadata": {},
   "source": [
    "## Remarks about the scalar penalty P\n",
    "\n",
    "> Generally, there is a ‘Goldilocks region’ of considerable size that contains\n",
    "penalty values that work well. A little preliminary thought about the model can yield a ballpark\n",
    "estimate of the original objective function value. Taking P to be some percentage (75% to\n",
    "150%) of this estimate is often a good place to start. "
   ]
  },
  {
   "cell_type": "markdown",
   "metadata": {},
   "source": [
    "# The Set Packing Problem\n",
    "$$min\\ \\sum_{j=1}^n w_{j}x_{j} \\\\\n",
    "st \\\\\n",
    "\\sum_{j=1}^n a_{ij}x_{j} \\le 1\n",
    "$$"
   ]
  },
  {
   "cell_type": "code",
   "execution_count": 279,
   "metadata": {},
   "outputs": [],
   "source": [
    "from itertools import combinations"
   ]
  },
  {
   "cell_type": "code",
   "execution_count": 395,
   "metadata": {},
   "outputs": [],
   "source": [
    "def qubo_set_pack(a: np.ndarray, weight: np.ndarray, p=8.) -> np.ndarray:\n",
    "    assert len(a.shape) == 2\n",
    "    assert a.shape[-1] == len(weight)\n",
    "    q = -np.diagflat(weight)\n",
    "    c = np.einsum(\"ij,ik->ijk\",a,a).astype(np.float) / 2. # constraint\n",
    "    c *= (1 - np.eye(a.shape[-1]))[None,...] # zeros diag\n",
    "    q += p*c.sum(0)\n",
    "    return q"
   ]
  },
  {
   "cell_type": "code",
   "execution_count": 410,
   "metadata": {},
   "outputs": [],
   "source": [
    "def test_qubo_set_pack():\n",
    "    a = np.array([[1,0,1,1],\n",
    "                  [1,1,0,0]])\n",
    "    w = np.ones(4)\n",
    "    q = qubo_set_pack(a, w, p=6.)\n",
    "    assert q.tolist() == [[-1,3,3,3],\n",
    "                         [3,-1,0,0],\n",
    "                         [3,0,-1,3],\n",
    "                         [3,0,3,-1]]\n",
    "    assert is_contain(qbsolv_from_ndarray(q), np.array([0,1,1,0]))\n",
    "test_qubo_set_pack()"
   ]
  },
  {
   "cell_type": "markdown",
   "metadata": {},
   "source": [
    "# The Max 2-Sat Problem"
   ]
  },
  {
   "cell_type": "code",
   "execution_count": null,
   "metadata": {},
   "outputs": [],
   "source": []
  }
 ],
 "metadata": {
  "kernelspec": {
   "display_name": "qubo",
   "language": "python",
   "name": "qubo"
  },
  "language_info": {
   "codemirror_mode": {
    "name": "ipython",
    "version": 3
   },
   "file_extension": ".py",
   "mimetype": "text/x-python",
   "name": "python",
   "nbconvert_exporter": "python",
   "pygments_lexer": "ipython3",
   "version": "3.7.1"
  }
 },
 "nbformat": 4,
 "nbformat_minor": 2
}
