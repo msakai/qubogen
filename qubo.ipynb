{
 "cells": [
  {
   "cell_type": "markdown",
   "metadata": {},
   "source": [
    "# A Tutorial on Formulating and Using QUBO Models\n",
    "http://meta-analytics.net/references/QUBO%20Tutorial%20%20Version%201-4.pdf"
   ]
  },
  {
   "cell_type": "code",
   "execution_count": 24,
   "metadata": {},
   "outputs": [],
   "source": [
    "from __future__ import annotations\n",
    "from dwave_qbsolv import QBSolv\n",
    "from typing import Set, Tuple, Container, Dict, Sequence\n",
    "from dataclasses import dataclass\n",
    "import networkx as nx"
   ]
  },
  {
   "cell_type": "code",
   "execution_count": 25,
   "metadata": {},
   "outputs": [],
   "source": [
    "def get_q_dict(q: np.ndarray) -> Dict[Tuple[int, int], float]:\n",
    "    \"\"\"Returns q matrix in the form of dict from np.ndarray\n",
    "    \n",
    "    The dict can be directly passed to dwave_qbsolv.QBSolv\n",
    "    \"\"\"\n",
    "    assert len(q.shape) == 2 and  q.shape[0] == q.shape[1]\n",
    "    return dict(zip(zip(*np.nonzero(q)), q[q!=0]))"
   ]
  },
  {
   "cell_type": "code",
   "execution_count": 26,
   "metadata": {},
   "outputs": [],
   "source": [
    "def test_get_q_dict():\n",
    "    q = np.array([[1,2],\n",
    "                  [2,4]])\n",
    "    assert get_q_dict(q) == {(0,0):1, (0,1):2, (1,0):2, (1,1):4}\n",
    "test_get_q_dict()"
   ]
  },
  {
   "cell_type": "code",
   "execution_count": 27,
   "metadata": {},
   "outputs": [],
   "source": [
    "def qbsolv_from_ndarray(q: np.ndarray) -> Tuple[np.ndarray, np.ndarray]:\n",
    "    \"\"\"Returns lowest energy samples from dwave qbsolv.(for test util)\"\"\"\n",
    "    res = QBSolv().sample_qubo(get_q_dict(q)).record\n",
    "    i = res.energy == res.energy.min()\n",
    "    return res.sample[i], res.energy[i]"
   ]
  },
  {
   "cell_type": "markdown",
   "metadata": {},
   "source": [
    "#  The Number Partitioning Problem\n",
    "\n",
    "$$q_{ii} = s_{i}(s_{i}-c) \\\\\n",
    "q_{ij} = q_{ji} = s_{i}s_{j} \\\\\n",
    "c = \\sum_i{s_{i}}$$"
   ]
  },
  {
   "cell_type": "code",
   "execution_count": 103,
   "metadata": {},
   "outputs": [],
   "source": [
    "def qubo_number_partition(s: Container[float]) -> np.ndarray:\n",
    "    \"\"\"Return Q matrix of number partitioning problem\"\"\"\n",
    "    s = np.array(list(s))\n",
    "    c = s.sum()\n",
    "    q = np.outer(s, s)\n",
    "    np.fill_diagonal(q, s*(s-c))\n",
    "    return q"
   ]
  },
  {
   "cell_type": "code",
   "execution_count": 107,
   "metadata": {},
   "outputs": [],
   "source": [
    "def test_qubo_number_partition():\n",
    "    s = np.array([3,1,1,2,2,1])\n",
    "    sample, _ = qbsolv_from_ndarray(qubo_number_partition(s))\n",
    "    assert s[sample[0] == 1].sum() == 5\n",
    "    assert s[sample[0] == 0].sum() == 5\n",
    "test_qubo_number_partition()"
   ]
  },
  {
   "cell_type": "markdown",
   "metadata": {},
   "source": [
    "# The Max-Cut Problem\n",
    "\n",
    "$$ Minimize\\ y = \\sum_{(i,j)\\in E}(2x_{i}x_{j}-x_{i}-x_{j})$$"
   ]
  },
  {
   "cell_type": "code",
   "execution_count": 108,
   "metadata": {},
   "outputs": [],
   "source": [
    "@dataclass\n",
    "class Graph:\n",
    "    edges: Collection[Collection[int]] # edge is represented as (i, j)\n",
    "    n_nodes: int\n",
    "    init_value: Mapping[int, int] = None # init_value[i] indicates init value of node i\n",
    "    nodes: Sequence[float] = None # value of nodes. len(nodes) must be n_nodes\n",
    "     \n",
    "    def __post_init__(self):\n",
    "        if self.nodes is not None: assert len(self.nodes) == self.n_nodes \n",
    "        if self.edges is None: return\n",
    "        if len(self.edges) == 0: \n",
    "            self.edges = None\n",
    "            return\n",
    "        self.edges = np.array(list(self.edges))\n",
    "        assert self.edges.max() < self.n_nodes\n",
    "        assert self.edges.shape[1] == 2\n",
    "        if self.init_value is not None:\n",
    "            assert all(np.array(list(self.init_value)) < self.n_nodes)\n",
    "        \n",
    "    @classmethod\n",
    "    def from_networkx(cls, graph: nx.Graph) -> Graph:\n",
    "        return cls(edges = graph.edges, n_nodes = graph.number_of_nodes())\n",
    "    \n",
    "    def to_networkx_graph(self) -> nx.Graph:\n",
    "        nxg = nx.Graph()\n",
    "        nxg.add_nodes_from(range(self.n_nodes))\n",
    "        nxg.add_edges_from(self.edges)\n",
    "        return nxg"
   ]
  },
  {
   "cell_type": "code",
   "execution_count": 110,
   "metadata": {},
   "outputs": [],
   "source": [
    "def test_graph():\n",
    "    edges = {(1,2), (3,4)}\n",
    "    graph = Graph(edges, 5)\n",
    "    assert graph.edges.shape == (2,2)\n",
    "    nxg = graph.to_networkx_graph()\n",
    "    _graph = Graph.from_networkx(nxg)\n",
    "    assert np.array_equal(graph.edges, _graph.edges)\n",
    "    assert graph.n_nodes == _graph.n_nodes\n",
    "test_graph()"
   ]
  },
  {
   "cell_type": "code",
   "execution_count": 111,
   "metadata": {},
   "outputs": [],
   "source": [
    "def qubo_max_cut(g: Graph) -> np.ndarray:\n",
    "    n_nodes = g.n_nodes\n",
    "    q = np.zeros((n_nodes, n_nodes))\n",
    "    i, j = g.edges.T\n",
    "    np.add.at(q, (i,i), -1)\n",
    "    np.add.at(q, (j,j), -1)\n",
    "    q[i,j] += 1\n",
    "    q[j,i] += 1\n",
    "    return q"
   ]
  },
  {
   "cell_type": "code",
   "execution_count": 75,
   "metadata": {},
   "outputs": [],
   "source": [
    "def is_contain(x: np.ndarray, y: np.ndarray) -> bool:\n",
    "    \"\"\"If y \\in x\"\"\"\n",
    "    assert len(x.shape) -1 == len(y.shape)\n",
    "    return any(np.array_equal(xi, y) for xi in x)"
   ]
  },
  {
   "cell_type": "code",
   "execution_count": 114,
   "metadata": {},
   "outputs": [],
   "source": [
    "def test_qubo_max_cut():\n",
    "    edges = [(0,1), (0,2), (1,3), (2,3), (2, 4), (3, 4)]\n",
    "    g = Graph(edges=edges, n_nodes=5)\n",
    "    q = qubo_max_cut(g)\n",
    "    assert q.tolist() == [[-2,1,1,0,0],\n",
    "                          [1,-2,0,1,0],\n",
    "                          [1,0,-3,1,1],\n",
    "                          [0,1,1,-3,1],\n",
    "                          [0,0,1,1,-2]]\n",
    "    sample, _ = qbsolv_from_ndarray(q)\n",
    "    assert is_contain(sample, np.array([0,1,1,0,0]))\n",
    "test_qubo_max_cut()"
   ]
  },
  {
   "cell_type": "markdown",
   "metadata": {},
   "source": [
    "# known penalties\n",
    "\n",
    "![](img/known_penalties.png)"
   ]
  },
  {
   "cell_type": "markdown",
   "metadata": {},
   "source": [
    "# The Minimum Vertex Cover Problem (MVC)\n",
    "\n",
    "$$ y = \\sum_{j \\in V}x_{j} + P\\left(\\sum_{(i,j) \\in E}\\left(1-x_{i}-x_{j}+x_{i}x_{j}\\right)\\right)$$"
   ]
  },
  {
   "cell_type": "code",
   "execution_count": 115,
   "metadata": {},
   "outputs": [],
   "source": [
    "def qubo_mvc(g: Graph, p: float = 8.):\n",
    "    \"\"\"The Minimum Vertex Cover Problem (MVC)\"\"\"\n",
    "    q = np.diagflat(np.ones(g.n_nodes))\n",
    "    i, j = g.edges.T\n",
    "    np.add.at(q, (i,i), -p)\n",
    "    np.add.at(q, (j,j), -p)\n",
    "    q[i,j] += p/2.\n",
    "    q[j,i] += p/2.\n",
    "    return q"
   ]
  },
  {
   "cell_type": "code",
   "execution_count": 117,
   "metadata": {},
   "outputs": [],
   "source": [
    "def test_qubo_mvc():\n",
    "    edges = [(0,1), (0,2), (1,3), (2,3), (2, 4), (3, 4)]\n",
    "    g = Graph(edges=edges, n_nodes=5)\n",
    "    q = qubo_mvc(g, p=8.)\n",
    "    sample,_ = qbsolv_from_ndarray(q)\n",
    "    assert is_contain(sample, np.array([0,1,1,0,1]))\n",
    "test_qubo_mvc()"
   ]
  },
  {
   "cell_type": "markdown",
   "metadata": {},
   "source": [
    "# The Weighted Minimum Vertex Cover Problem (W-MVC)\n",
    "\n",
    "$$ y = \\sum_{j \\in V}w_{j}x_{j} + P\\left(\\sum_{(i,j) \\in E}\\left(1-x_{i}-x_{j}+x_{i}x_{j}\\right)\\right)$$"
   ]
  },
  {
   "cell_type": "code",
   "execution_count": 118,
   "metadata": {},
   "outputs": [],
   "source": [
    "def qubo_wmvc(g: Graph, p: float = 8.):\n",
    "    \"\"\"The Minimum Vertex Cover Problem (MVC)\"\"\"\n",
    "    q = np.diagflat(np.ones(g.n_nodes)*g.nodes)\n",
    "    i, j = g.edges.T\n",
    "    np.add.at(q, (i,i), -p)\n",
    "    np.add.at(q, (j,j), -p)\n",
    "    q[i,j] += p/2.\n",
    "    q[j,i] += p/2.\n",
    "    return q"
   ]
  },
  {
   "cell_type": "code",
   "execution_count": 119,
   "metadata": {},
   "outputs": [],
   "source": [
    "def test_qubo_wmvc():\n",
    "    edges = [(0,1), (0,2), (1,3), (2,3), (2, 4), (3, 4)]\n",
    "    g = Graph(edges=edges, n_nodes=5, nodes=np.ones(5))\n",
    "    q = qubo_mvc(g, p=8.)\n",
    "    sample, _ = qbsolv_from_ndarray(q)\n",
    "    assert is_contain(sample, np.array([0,1,1,0,1]))\n",
    "test_qubo_wmvc()"
   ]
  },
  {
   "cell_type": "markdown",
   "metadata": {},
   "source": [
    "## Remarks about the scalar penalty P\n",
    "\n",
    "> Generally, there is a ‘Goldilocks region’ of considerable size that contains\n",
    "penalty values that work well. A little preliminary thought about the model can yield a ballpark\n",
    "estimate of the original objective function value. Taking P to be some percentage (75% to\n",
    "150%) of this estimate is often a good place to start. "
   ]
  },
  {
   "cell_type": "markdown",
   "metadata": {},
   "source": [
    "# The Set Packing Problem\n",
    "$$min\\ \\sum_{j=1}^n w_{j}x_{j} \\\\\n",
    "st \\\\\n",
    "\\sum_{j=1}^n a_{ij}x_{j} \\le 1\n",
    "$$"
   ]
  },
  {
   "cell_type": "code",
   "execution_count": 120,
   "metadata": {},
   "outputs": [],
   "source": [
    "from itertools import combinations"
   ]
  },
  {
   "cell_type": "code",
   "execution_count": 121,
   "metadata": {},
   "outputs": [],
   "source": [
    "def qubo_set_pack(a: np.ndarray, weight: np.ndarray, p=8.) -> np.ndarray:\n",
    "    assert len(a.shape) == 2\n",
    "    assert a.shape[-1] == len(weight)\n",
    "    q = -np.diagflat(weight)\n",
    "    c = np.einsum(\"ij,ik->ijk\",a,a).astype(np.float) / 2. # constraint\n",
    "    c *= (1 - np.eye(a.shape[-1]))[None,...] # zeros diag\n",
    "    q += p*c.sum(0)\n",
    "    return q"
   ]
  },
  {
   "cell_type": "code",
   "execution_count": 122,
   "metadata": {},
   "outputs": [],
   "source": [
    "def test_qubo_set_pack():\n",
    "    a = np.array([[1,0,1,1],\n",
    "                  [1,1,0,0]])\n",
    "    w = np.ones(4)\n",
    "    q = qubo_set_pack(a, w, p=6.)\n",
    "    assert q.tolist() == [[-1,3,3,3],\n",
    "                         [3,-1,0,0],\n",
    "                         [3,0,-1,3],\n",
    "                         [3,0,3,-1]]\n",
    "    assert is_contain(qbsolv_from_ndarray(q)[0], np.array([0,1,1,0]))\n",
    "test_qubo_set_pack()"
   ]
  },
  {
   "cell_type": "markdown",
   "metadata": {},
   "source": [
    "# The Max 2-Sat Problem\n",
    "- 面白いことに，Clauseの数によらないモデルとなる"
   ]
  },
  {
   "cell_type": "code",
   "execution_count": 138,
   "metadata": {},
   "outputs": [],
   "source": [
    "@dataclass\n",
    "class Clauses:\n",
    "    literals: np.ndarray[int]\n",
    "    signs: np.ndarray[bool]\n",
    "    def __post_init__(self):\n",
    "        assert len(self.literals) == len(self.signs)"
   ]
  },
  {
   "cell_type": "code",
   "execution_count": 227,
   "metadata": {},
   "outputs": [],
   "source": [
    "def qubo_max2sat(c: Clauses):\n",
    "    n = c.literals.max()+1\n",
    "    q = np.zeros((n,n))\n",
    "    i,j=c.literals.T\n",
    "    si,sj=c.signs.T\n",
    "    np.add.at(q, (i[sj], i[sj]), ((-1)**si)[sj])\n",
    "    np.add.at(q, (j[si], j[si]), ((-1)**sj)[si])\n",
    "\n",
    "    offdiag=np.zeros_like(q)\n",
    "    np.add.at(offdiag, (i,j), (-1)**(si^sj) / 2.)\n",
    "    return offdiag + offdiag.T + q"
   ]
  },
  {
   "cell_type": "code",
   "execution_count": 234,
   "metadata": {},
   "outputs": [],
   "source": [
    "def test_qubo_max2sat():\n",
    "    l = np.array([[0,1],[0,1],[0,1],[0,1],[0,2],\n",
    "                  [0,2],[1,2],[1,3],[1,2],[1,2],\n",
    "                  [2,3],[2,3]])\n",
    "    s = np.array([[True,True],[True,False],[False,True],[False,False],\n",
    "                  [False,True],[False,False],[True,False],[True,True],\n",
    "                  [False,True],[False,False],[True,True],[False,False]])\n",
    "    q = qubo_max2sat(Clauses(l,s))\n",
    "    assert q.tolist() == [[1,0,0,0],\n",
    "                          [0,0,-0.5,0.5],\n",
    "                          [0,-0.5,0,1],\n",
    "                          [0,0.5,1,-2]]\n",
    "    sample, _ = qbsolv_from_ndarray(q)\n",
    "    assert is_contain(sample, np.array([0,0,0,1]))\n",
    "test_qubo_max2sat()"
   ]
  },
  {
   "cell_type": "markdown",
   "metadata": {},
   "source": [
    "# The Set Partitioning Problem (SPP)"
   ]
  },
  {
   "cell_type": "code",
   "execution_count": 308,
   "metadata": {},
   "outputs": [],
   "source": [
    "def qubo_set_partitioning(c: np.ndarray, a: np.ndarray, p=10.):\n",
    "    assert c.shape[0] == a.shape[1]\n",
    "    b = np.ones(a.shape[0])\n",
    "    return np.diagflat(c - p*2*b.dot(a))  + p*np.einsum(\"ij,ik->jk\",a,a)"
   ]
  },
  {
   "cell_type": "code",
   "execution_count": 324,
   "metadata": {},
   "outputs": [],
   "source": [
    "def test_qubo_set_partitioning():\n",
    "    c = np.array([3,2,1,1,3,2])\n",
    "    a = np.array([[1,0,1,0,0,1],\n",
    "                  [0,1,1,0,1,1],\n",
    "                  [0,0,1,1,1,0],\n",
    "                  [1,1,0,1,0,1]])\n",
    "\n",
    "    q=qubo_set_partitioning(c, a)\n",
    "    assert q.tolist() == [[-17,10,10,10,0,20],\n",
    "                        [10,-18,10,10,10,20],\n",
    "                        [10,10,-29,10,20,20],\n",
    "                        [10,10,10,-19,10,10],\n",
    "                        [0,10,20,10,-17,10],\n",
    "                        [20,20,20,10,10,-28]]\n",
    "    sample, _ = qbsolv_from_ndarray(q)\n",
    "    assert is_contain(sample, np.array([1,0,0,0,1,0]))\n",
    "test_qubo_set_partitioning()"
   ]
  },
  {
   "cell_type": "markdown",
   "metadata": {},
   "source": [
    "> The set partitioning problem may be viewed as a form of clustering problem and is\n",
    "elaborated further in Section 6."
   ]
  },
  {
   "cell_type": "markdown",
   "metadata": {},
   "source": [
    "# Graph Coloring\n",
    "\n",
    "> frequency assignment problems to printed circuit board design problems, "
   ]
  },
  {
   "cell_type": "code",
   "execution_count": 424,
   "metadata": {},
   "outputs": [],
   "source": [
    "def qubo_graph_coloring(g: Graph, n_color, p=4) -> np.ndarray:\n",
    "    n = g.n_nodes\n",
    "    q=np.zeros((n,n_color,n,n_color))\n",
    "    \n",
    "    # each nodes are colored by one color\n",
    "    i=range(n)\n",
    "    q[i, :, i, :] = p*(np.ones((n_color,n_color)) - 2*np.eye(n_color))\n",
    "    \n",
    "    # adjacent nodes are not colored with same color\n",
    "    i, j = g.edges.T[...,None]\n",
    "    k=range(n_color)\n",
    "    q[i,k,j,k]+=p/2.\n",
    "    q[j,k,i,k]+=p/2.\n",
    "    \n",
    "    return q.reshape(n*n_color,n*n_color)"
   ]
  },
  {
   "cell_type": "code",
   "execution_count": 425,
   "metadata": {},
   "outputs": [],
   "source": [
    "def test_qubo_graph_coloring():\n",
    "    edges = [[0,1],[0,4],[1,2],[1,3],[1,4],[2,3],[3,4]]\n",
    "    g = Graph(edges=edges, n_nodes=5)\n",
    "    ans=np.zeros(n*c)\n",
    "    ans[[1,3,8,10,14]]=1\n",
    "    q=qubo_graph_coloring(g, c)\n",
    "    assert is_contain(qbsolv_from_ndarray(q)[0],ans)\n",
    "test_qubo_graph_coloring()"
   ]
  },
  {
   "cell_type": "markdown",
   "metadata": {},
   "source": [
    "> This approach to coloring problems has proven to be very effective for a wide variety of coloring instances with hundreds of nodes.\n",
    "らしいが，n_color色に対してn_color qbitを用意しているが，log_2(n_color)ですむような構成法はないかな？"
   ]
  },
  {
   "cell_type": "markdown",
   "metadata": {},
   "source": [
    "# General 0/1 Programming\n",
    "> Many important problems in industry and government can be modeled as 0/1 linear programs with a mixture of constraint types."
   ]
  },
  {
   "cell_type": "code",
   "execution_count": 77,
   "metadata": {},
   "outputs": [],
   "source": [
    "def qubo_general01_programming(c, a, b, s):\n",
    "    slack = []\n",
    "    for i, ss in enumerate(s):\n",
    "        if ss == -1:\n",
    "            slack.append(int(np.ceil(np.log2(b[i]))))\n",
    "        elif ss == 1:\n",
    "            slack.append(int(np.ceil(np.log2(a[i].sum()-b[i]))))\n",
    "        else:\n",
    "            slack.append(0)\n",
    "\n",
    "    ni = a.shape[0]\n",
    "    for i, ns in enumerate(slack):\n",
    "        if ns:\n",
    "            t = np.zeros((ni,ns))\n",
    "            t[i] = -s[i]*2**np.arange(ns)\n",
    "            a=np.concatenate([a,t],-1)\n",
    "\n",
    "    p=10\n",
    "\n",
    "    return - np.diagflat(np.concatenate([c, np.zeros(sum(slack))])+2*p*b.dot(a)) + p*np.einsum(\"ij,ik->jk\",a,a) "
   ]
  },
  {
   "cell_type": "code",
   "execution_count": 163,
   "metadata": {},
   "outputs": [],
   "source": [
    "def test_qubo_general01_programming():\n",
    "    c = np.array([6,4,8,5,5])\n",
    "    a = np.array([[2,2,4,3,2],\n",
    "                  [1,2,2,1,2],\n",
    "                  [3,3,2,4,4]])\n",
    "    b = np.array([7,4,5])\n",
    "    s = np.array([-1,0,1])\n",
    "    q=qubo_general01(c,a,b,s)\n",
    "    sample, _=qbsolv_from_ndarray(q)\n",
    "    assert is_contain(sample[:,:5], np.array([1,0,0,1,1]))\n",
    "test_qubo_general01_programming()"
   ]
  },
  {
   "cell_type": "markdown",
   "metadata": {},
   "source": [
    "# Quadratic Assignment Problem (QAP)\n",
    "> The Quadratic Assignment Problem (QAP) is a renowned problem in combinatorial optimization with applications in a wide variety of settings."
   ]
  },
  {
   "cell_type": "code",
   "execution_count": 195,
   "metadata": {},
   "outputs": [],
   "source": [
    "def qubo_quadratic_assignment(flow:np.ndarray, distance: np.ndarray, p=10.):\n",
    "    n = len(flow)\n",
    "    q = np.einsum(\"ij,kl->ikjl\",flow, distance).astype(np.float)\n",
    "\n",
    "    i = range(len(q))\n",
    "    q[i,:,i,:] += p\n",
    "    q[:,i,:,i] += p\n",
    "    q[i,i,i,i] -= 4*p\n",
    "    return q.reshape(n**2,n**2)"
   ]
  },
  {
   "cell_type": "code",
   "execution_count": 196,
   "metadata": {},
   "outputs": [],
   "source": [
    "def test_qubo_quadratic_assignment():\n",
    "    flow = [[0,5,2],\n",
    "            [5,0,3],\n",
    "            [2,3,0]]\n",
    "    distance = [[0,8,15],\n",
    "                [8,0,13],\n",
    "                [15,13,0]]\n",
    "    q = qubo_quadratic_assignment(flow, distance, p=200.)\n",
    "    sample, _ = qbsolv_from_ndarray(q)\n",
    "    assert is_contain(sample, np.array([1,0,0,0,1,0,0,0,1]))\n",
    "test_qubo_quadratic_assignment()"
   ]
  },
  {
   "cell_type": "markdown",
   "metadata": {},
   "source": [
    "# Quadratic Knapsack Problem (QKP)\n",
    "\n",
    "> widespread application in such areas as project selection and capital budgeting.\n",
    "\n",
    "> In such settings, a set of attractive potential projects is identified and the goal is to identify a subset of maximum value (or profit) that satisfies the budget limitations.\n",
    "> The quadratic version of this problem arises when there is an interaction between pairs of projects affecting the value obtained."
   ]
  },
  {
   "cell_type": "code",
   "execution_count": 217,
   "metadata": {},
   "outputs": [],
   "source": [
    "def qubo_qkp(value:np.ndarray, a:np.ndarray, b:int, p=10.) -> np.ndarray:\n",
    "    n = len(value)\n",
    "    nslack = np.ceil(np.log2(b))\n",
    "    slack = 2 ** (np.arange(nslack))\n",
    "    a = np.concatenate([a,slack])\n",
    "    q = p*(np.outer(a,a) - 2*b*np.diag(a))\n",
    "    q[:n,:n] -= value\n",
    "    return q"
   ]
  },
  {
   "cell_type": "code",
   "execution_count": 222,
   "metadata": {},
   "outputs": [],
   "source": [
    "def test_qubo_qkp():\n",
    "    value = np.array([[2,4,3,5],\n",
    "                      [4,5,1,3],\n",
    "                      [3,1,2,2],\n",
    "                      [5,3,2,4]])\n",
    "    a = np.array([8,6,5,3])\n",
    "    b = 16\n",
    "    q = qubo_qkp(value, a, b, p=10.)\n",
    "    sample, _ = qbsolv_from_ndarray(q)\n",
    "    n = len(a)\n",
    "    assert is_contain(sample[:,:n], np.array([1,0,1,1]))\n",
    "test_qubo_qkp()"
   ]
  },
  {
   "cell_type": "markdown",
   "metadata": {},
   "source": [
    "> The QUBO approach to QKP has proven to be successful on problems with several hundred variables and as many as five knapsack constraints."
   ]
  }
 ],
 "metadata": {
  "kernelspec": {
   "display_name": "qubogen",
   "language": "python",
   "name": "qubogen"
  },
  "language_info": {
   "codemirror_mode": {
    "name": "ipython",
    "version": 3
   },
   "file_extension": ".py",
   "mimetype": "text/x-python",
   "name": "python",
   "nbconvert_exporter": "python",
   "pygments_lexer": "ipython3",
   "version": "3.7.2"
  }
 },
 "nbformat": 4,
 "nbformat_minor": 2
}
